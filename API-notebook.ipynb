{
 "cells": [
  {
   "cell_type": "markdown",
   "metadata": {},
   "source": [
    "<style>\n",
    "@import url('https://fonts.googleapis.com/css2?family=Roboto:wght@400;700&display=swap');\n",
    "body {\n",
    "    font-family: 'Roboto', sans-serif;\n",
    "}\n",
    "</style>\n",
    "<h1><span style=\"font-family: 'Roboto', sans-serif;\">[λ] LAMBDA CAPTURE LIMITED</span></h1>\n",
    "<h4><span style=\"font-family: 'Roboto', sans-serif;\">API for Semantic Search &amp; Text Retrieval of Macro Data</span></h4>\n",
    "<hr>\n",
    "<p>\n",
    "<a href=\"https://lambda-capture.com/waitlist\" target=\"_blank\"><strong>Join Waitlist (24h) for free API Key</strong></a> | \n",
    "<a href=\"https://lambda-capture.com\" target=\"_blank\">Visit our Website</a> | \n",
    "<a href=\"mailto:support@lambda-capture.com\" target=\"_blank\">Get in touch</a><br><br>\n",
    "<a href=\"https://colab.research.google.com/github/lambda-capture/Semantic-Search-API/blob/main/API-notebook.ipynb\" target=\"_blank\">\n",
    "  <img src=\"https://colab.research.google.com/assets/colab-badge.svg\" alt=\"Open in Colab\"/>\n",
    "</a>\n",
    "<a href=\"https://lambda-capture.com/\">\n",
    "    <img src=\"https://img.shields.io/website-up-down-green-red/http/app.lambda-capture.com/.svg?label=API%20Status\" alt=\"API Status\"/>\n",
    "</a>\n",
    "<a href=\"https://github.com/lambda-capture/mcp-server\">\n",
    "    <img src=\"https://img.shields.io/website-up-down-green-red/http/mcp.lambda-capture.com/health-check/.svg?label=Remote%20MCP%20Server\" alt=\"Remote MCP Server\"/>\n",
    "</a><br>\n",
    "</p><br>\n",
    "© 2024 Lambda Capture Limited (Registration Number 15845351) 52 Tabernacle Street, London, EC2A 4NJ - All rights reserved\n"
   ]
  },
  {
   "cell_type": "markdown",
   "metadata": {},
   "source": [
    "## Our Data\n",
    "Waitlist sources are restricted to Central Banking Reports from the Federal Reserve, ECB, and Bank of England. These include key publications covering monetary policy decisions and judgments, market intelligence, forecasts, macroeconomic projections, and implementation notes. Each Waitlist account receives up to 1,000 free API requests."
   ]
  },
  {
   "cell_type": "markdown",
   "metadata": {},
   "source": [
    "## API Params (Arguments)\n",
    "\n",
    "| Arg Name    | Var Type         | Description                | Default Value                              | Required |\n",
    "|-------------|------------------|----------------------------|--------------------------------------------|----------|\n",
    "| api_key     | string           | Your API key               | None                                       | true     |\n",
    "| query_text  | string           | Search query               | None                                       | true     |\n",
    "| max_results | integer (1 to inf) | Maximum results            | 10                                         | false    |\n",
    "| score       | float (0 to 1)   | Minimum similarity score   | 0.75                                       | false    |\n",
    "| start_date  | string           | Start date for query       | \"2018-01-01\"                               | false    |\n",
    "| end_date    | string           | End date for query         | Current Date                               | false    |\n",
    "| source      | list of strings  | Publishing source          | [\"Federal Reserve\", \"Bank of England\", \"European Central Bank\"] | false    |\n",
    "| type        | list of strings  | Type of media to return    | [\"text\", \"chart\", \"table\"]                 | false    |\n",
    "\n",
    "Footnotes: \n",
    "- score uses cosine-similarity\n",
    "- unless explicitly required, we suggest not to filter by publishing source, as semantic similarity can efficiently find relevant info across different Central Banks"
   ]
  },
  {
   "cell_type": "markdown",
   "metadata": {},
   "source": [
    "## Response Data Structure\n",
    "Response data is a JSON list (list of dictionaries). Each list object includes the following fields:\n",
    "\n",
    "| Field            | Variable Type       | Description                                           | Required |\n",
    "|------------------|---------------------|-------------------------------------------------------|----------|\n",
    "| uuid             | string              | Unique ID of the record                               | true     |\n",
    "| source           | string              | One of 3 Central Banks                                | true     |\n",
    "| report-link      | string              | URL of the original publication                       | true     |\n",
    "| published        | string              | Date of publication in ISO format                     | true     |\n",
    "| section_title    | string              | Document section                                      | false    |\n",
    "| sbsection_title  | string              | Document subsection                                   | false    |\n",
    "| type             | string              | Type of retrieved media                               | true     |\n",
    "| chunk            | string              | Main text body (title of chart or table)              | true     |\n",
    "| token_count      | integer (1 to inf)  | Number of text tokens (size)                          | true     |\n",
    "| data             | string              | Main body for table or download link for chart        | false    |\n",
    "| footnotes        | string              | Footnotes for table or chart                          | false    |\n",
    "| chart_schema     | string              | Additional field for charts, includes textual summary | false    |\n",
    "| score            | float (0 to 1)      | Cosine-similarity score (from 0 to 1)                 | true     |\n",
    "\n",
    "### Ranking: \n",
    "Results are ranked by publication date. If two records have the same publication date, they are further sorted by descending score."
   ]
  },
  {
   "cell_type": "markdown",
   "metadata": {},
   "source": [
    "## Requests\n",
    "Our RESTful API currently supports only GET requests. Below is an example of how to make a GET request to our API using Python's requests library or command-line interface (CLI) curl."
   ]
  },
  {
   "cell_type": "markdown",
   "metadata": {},
   "source": [
    "### Python:"
   ]
  },
  {
   "cell_type": "code",
   "execution_count": 1,
   "metadata": {},
   "outputs": [
    {
     "name": "stdout",
     "output_type": "stream",
     "text": [
      "status of response: 200\n"
     ]
    },
    {
     "data": {
      "text/plain": [
       "[{'uuid': 'a52e0b78-01b9-4e37-9093-ba7573fe3649',\n",
       "  'source': 'Bank of England',\n",
       "  'report_link': 'https://www.bankofengland.co.uk/monetary-policy-report/2024/november-2024',\n",
       "  'document_title': 'Monetary Policy Report November 2024',\n",
       "  'published': '2024-11-07T00:00:00',\n",
       "  'section_title': '2: Current economic conditions',\n",
       "  'subsection_title': '2.5: Inflation and wages',\n",
       "  'type': 'text',\n",
       "  'chunk': 'Household and business expectations for CPI inflation play an important role in wage and price-setting dynamics. Inflation expectations rose sharply alongside actual inflation in 2022. With inflation now around the 2% target, however, some measures of inflation expectations are back to around their 2010–19 averages. ',\n",
       "  'token_count': 61,\n",
       "  'data': None,\n",
       "  'footnotes': None,\n",
       "  'score': 0.839175820350647},\n",
       " {'uuid': 'c97f6afe-168f-461e-99e9-30481d793c38',\n",
       "  'source': 'Bank of England',\n",
       "  'report_link': 'https://www.bankofengland.co.uk/monetary-policy-report/2024/may-2024',\n",
       "  'document_title': 'Monetary Policy Report - May 2024',\n",
       "  'published': '2024-05-09T00:00:00',\n",
       "  'section_title': '3: In focus – Developments in the persistence of UK inflation',\n",
       "  'subsection_title': '3.3: The persistence of domestic inflationary pressure',\n",
       "  'type': 'text',\n",
       "  'chunk': 'Inflation expectations can affect future developments in price-setting through a number of channels. For example, some firms change their prices periodically, such as at a one-year interval, rather than in response to changes in economic conditions (Chart 3.10 in May 2023 Report). If these firms have high expectations for future price increases, they are likely to raise their own prices by more when they are repricing in order to account for future cost growth, which leads to more persistent aggregate price inflation.',\n",
       "  'token_count': 100,\n",
       "  'data': None,\n",
       "  'footnotes': None,\n",
       "  'score': 0.8405879139900208}]"
      ]
     },
     "execution_count": 1,
     "metadata": {},
     "output_type": "execute_result"
    }
   ],
   "source": [
    "import requests\n",
    "from config import API_KEY\n",
    "\n",
    "url = \"https://app.lambda-capture.com/semantic-search/\"\n",
    "# Define the query parameters\n",
    "params = {\n",
    "    \"api_key\": API_KEY,\n",
    "    \"query_text\": \"Inflation expectations\",\n",
    "    \"max_results\": 2,\n",
    "    \"type\": [\"text\",\"table\"],\n",
    "    \"source\": [\"Bank of England\"],\n",
    "    \"score\": 0.75,\n",
    "    \"start_date\" : \"2024-01-01\",\n",
    "    \"end_date\": \"2024-12-31\"\n",
    "}\n",
    "\n",
    "# Make the GET request\n",
    "response = requests.get(url, json=params)\n",
    "# Print the response\n",
    "response.raise_for_status()\n",
    "print(\"status of response:\", response.status_code)\n",
    "data = response.json()\n",
    "data"
   ]
  },
  {
   "cell_type": "markdown",
   "metadata": {},
   "source": [
    "Remember that response is a **list of JSON objects** with min size of 1 element:"
   ]
  },
  {
   "cell_type": "code",
   "execution_count": 2,
   "metadata": {},
   "outputs": [
    {
     "name": "stdout",
     "output_type": "stream",
     "text": [
      "<class 'list'>\n",
      "<class 'dict'>\n",
      "<class 'str'>\n",
      "Inflation expectations can affect future developments in price-setting through a number of channels. For example, some firms change their prices periodically, such as at a one-year interval, rather than in response to changes in economic conditions (Chart 3.10 in May 2023 Report). If these firms have high expectations for future price increases, they are likely to raise their own prices by more when they are repricing in order to account for future cost growth, which leads to more persistent aggregate price inflation.\n"
     ]
    }
   ],
   "source": [
    "# list\n",
    "print(type(data))\n",
    "# element of the list\n",
    "print(type(data[0]))\n",
    "# field in the element\n",
    "print(type(data[0]['section_title']))\n",
    "# access a field value from the first element\n",
    "print(data[1]['chunk'])"
   ]
  },
  {
   "cell_type": "markdown",
   "metadata": {},
   "source": [
    "When working with Firewalls, Proxies or CORS restrictions, you may need to set the headers in the request:"
   ]
  },
  {
   "cell_type": "code",
   "execution_count": 3,
   "metadata": {},
   "outputs": [],
   "source": [
    "headers = {\n",
    "    \"Accept\": \"application/json\"\n",
    "}\n",
    "\n",
    "response = requests.get(url, json=params, headers=headers)"
   ]
  },
  {
   "cell_type": "markdown",
   "metadata": {},
   "source": [
    "### Command-Line Interface (CLI) using curl:"
   ]
  },
  {
   "cell_type": "code",
   "execution_count": null,
   "metadata": {},
   "outputs": [],
   "source": [
    "from config import API_KEY\n",
    "%env API_KEY=$API_KEY"
   ]
  },
  {
   "cell_type": "code",
   "execution_count": 5,
   "metadata": {},
   "outputs": [
    {
     "name": "stdout",
     "output_type": "stream",
     "text": [
      "  % Total    % Received % Xferd  Average Speed   Time    Time     Time  Current\n",
      "                                 Dload  Upload   Total   Spent    Left  Speed\n",
      "100  1308  100  1028  100   280   1580    430 --:--:-- --:--:-- --:--:--  2012\n",
      "[\n",
      "    {\n",
      "        \"uuid\": \"c97f6afe-168f-461e-99e9-30481d793c38\",\n",
      "        \"source\": \"Bank of England\",\n",
      "        \"report_link\": \"https://www.bankofengland.co.uk/monetary-policy-report/2024/may-2024\",\n",
      "        \"document_title\": \"Monetary Policy Report - May 2024\",\n",
      "        \"published\": \"2024-05-09T00:00:00\",\n",
      "        \"section_title\": \"3: In focus \\u2013 Developments in the persistence of UK inflation\",\n",
      "        \"subsection_title\": \"3.3: The persistence of domestic inflationary pressure\",\n",
      "        \"type\": \"text\",\n",
      "        \"chunk\": \"Inflation expectations can affect future developments in price-setting through a number of channels. For example, some firms change their prices periodically, such as at a one-year interval, rather than in response to changes in economic conditions (Chart 3.10 in May 2023 Report). If these firms have high expectations for future price increases, they are likely to raise their own prices by more when they are repricing in order to account for future cost growth, which leads to more persistent aggregate price inflation.\",\n",
      "        \"token_count\": 100,\n",
      "        \"data\": null,\n",
      "        \"footnotes\": null,\n",
      "        \"score\": 0.8405879139900208\n",
      "    }\n",
      "]\n"
     ]
    }
   ],
   "source": [
    "!curl --request GET \\\n",
    "  --url \"https://app.lambda-capture.com/semantic-search/\" \\\n",
    "  --data '{ \\\n",
    "    \"api_key\": \"'$API_KEY'\", \\\n",
    "    \"query_text\": \"Inflation expectations\", \\\n",
    "    \"max_results\": 1, \\\n",
    "    \"score\": 0.75, \\\n",
    "    \"start_date\": \"2024-01-01\", \\\n",
    "    \"end_date\": \"2024-12-31\", \\\n",
    "    \"type\": [\"text\",\"table\"], \\\n",
    "    \"source\": [\"Bank of England\"] \\\n",
    "  }' | python -m json.tool\n",
    "# Footnote: Replace \\ with ^ when running outside UNIX systems\n",
    "# remove ! and | python -m json.tool when running directly in terminal"
   ]
  },
  {
   "cell_type": "markdown",
   "metadata": {},
   "source": [
    "## Error Handling\n",
    "Error message will always be a dictionary (not list) with a key \"error\". The value of the key contains the error message."
   ]
  },
  {
   "cell_type": "markdown",
   "metadata": {},
   "source": [
    "### Error Codes & Messages\n",
    "| Status Code | Params | Message | \n",
    "|------|---------|---------|\n",
    "| 400  |  | incorrect API Syntax | \n",
    "| 400  |  | Invalid JSON body | \n",
    "| 400  | score | incorrect score param, needs to be a float between 0 and 1 |\n",
    "| 400  | max_results | incorrect limit param, needs to be an integer greater than 0 |\n",
    "| 400  | start_date | incorrect start_date param, needs to be YYYY-MM-DD |\n",
    "| 400  | end_date | incorrect end_date param, needs to be YYYY-MM-DD |\n",
    "| 401  | api_key | invalid API key |\n",
    "| 429  |  | Rate limit exceeded: X per 1 day |\n",
    "| 500  |  | Any other error (custom message) |"
   ]
  },
  {
   "cell_type": "code",
   "execution_count": 6,
   "metadata": {},
   "outputs": [
    {
     "name": "stdout",
     "output_type": "stream",
     "text": [
      "status of response: 400\n",
      "error json type: <class 'dict'>\n"
     ]
    },
    {
     "data": {
      "text/plain": [
       "'incorrect limit param, needs to be an integer greater than 0'"
      ]
     },
     "execution_count": 6,
     "metadata": {},
     "output_type": "execute_result"
    }
   ],
   "source": [
    "import requests\n",
    "from config import API_KEY\n",
    "\n",
    "url = \"https://app.lambda-capture.com/semantic-search/\"\n",
    "# Define the query parameters\n",
    "params = {\n",
    "    \"api_key\": API_KEY,\n",
    "    \"query_text\": \"Inflation expectations\",\n",
    "    \"max_results\": 0,\n",
    "}\n",
    "\n",
    "# Make the GET request\n",
    "response = requests.get(url, json=params)\n",
    "# Print the response\n",
    "print(\"status of response:\", response.status_code)\n",
    "print(\"error json type:\", type(response.json()))\n",
    "data = response.json().get(\"error\")\n",
    "data"
   ]
  }
 ],
 "metadata": {
  "kernelspec": {
   "display_name": ".venv",
   "language": "python",
   "name": "python3"
  },
  "language_info": {
   "codemirror_mode": {
    "name": "ipython",
    "version": 3
   },
   "file_extension": ".py",
   "mimetype": "text/x-python",
   "name": "python",
   "nbconvert_exporter": "python",
   "pygments_lexer": "ipython3",
   "version": "3.13.3"
  }
 },
 "nbformat": 4,
 "nbformat_minor": 2
}
